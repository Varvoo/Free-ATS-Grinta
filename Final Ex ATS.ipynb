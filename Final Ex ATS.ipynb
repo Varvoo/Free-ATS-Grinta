{
 "cells": [
  {
   "cell_type": "markdown",
   "id": "2ba7d6c8",
   "metadata": {},
   "source": [
    "# ARIMAX vs. ARDL Models\n",
    "\n",
    "Study of the EDF CDS "
   ]
  },
  {
   "cell_type": "code",
   "execution_count": 53,
   "id": "b49fe5c9",
   "metadata": {},
   "outputs": [],
   "source": [
    "# Dataframe, maths and plotting packages\n",
    "import pandas as pd\n",
    "import numpy as np\n",
    "from matplotlib import pyplot as plt\n",
    "from statsmodels.tsa.stattools import adfuller\n",
    "import statsmodels.api as sm"
   ]
  },
  {
   "cell_type": "code",
   "execution_count": 50,
   "id": "5d02927b",
   "metadata": {},
   "outputs": [
    {
     "data": {
      "text/plain": [
       "3325   -0.051191\n",
       "3324   -0.024634\n",
       "3323    0.002472\n",
       "3322   -0.007370\n",
       "3321    0.025126\n",
       "          ...   \n",
       "7       0.027323\n",
       "6       0.000884\n",
       "5       0.011021\n",
       "4       0.019553\n",
       "3      -0.014776\n",
       "Name: Continuous Return, Length: 3323, dtype: float64"
      ]
     },
     "execution_count": 50,
     "metadata": {},
     "output_type": "execute_result"
    }
   ],
   "source": [
    "########### Load and prepare data ###########\n",
    "# Import data\n",
    "df = pd.read_excel('Data ATS.xlsx')\n",
    "# Extract and sort chronologicaly EDF CDS data\n",
    "df_EDF = df.iloc[3:,4:6]\n",
    "df_EDF = df_EDF.rename(columns={\"Unnamed: 4\": \"Date\", \"Unnamed: 5\": \"Last Price\"}).sort_values(by=\"Date\", ascending=True)\n",
    "# Compute continuous quarterly return\n",
    "df_EDF['Continuous Return'] = df_EDF['Last Price'].pct_change()\n",
    "df_EDF_ret = df_EDF['Continuous Return'].iloc[1:]\n",
    "df_EDF_ret"
   ]
  },
  {
   "cell_type": "code",
   "execution_count": 42,
   "id": "b593f5b6",
   "metadata": {},
   "outputs": [
    {
     "name": "stderr",
     "output_type": "stream",
     "text": [
      "/var/folders/mg/m26g3t3518j6bhs84_z6y9q80000gn/T/ipykernel_73848/4198530727.py:14: MatplotlibDeprecationWarning: Passing the pad parameter of tight_layout() positionally is deprecated since Matplotlib 3.3; the parameter will become keyword-only two minor releases later.\n",
      "  plt.tight_layout(4)\n"
     ]
    },
    {
     "data": {
      "image/png": "[encoded data removed]",
      "text/plain": [
       "<Figure size 432x288 with 2 Axes>"
      ]
     },
     "metadata": {
      "needs_background": "light"
     },
     "output_type": "display_data"
    }
   ],
   "source": [
    "########### Visual representation ###########\n",
    "# Check the CDS price's fluctuation\n",
    "plt.subplot(1, 2, 1)\n",
    "plt.plot(df_EDF['Last Price'])\n",
    "plt.title(\"Roche Stock Prices\")\n",
    "plt.xlabel('Time')\n",
    "plt.ylabel('Price')\n",
    "# Check the evolution of quarterly returns\n",
    "plt.subplot(1, 2, 2)\n",
    "plt.plot(df_EDF.iloc[1:,2])\n",
    "plt.title(\"EDF 5Y CDS Continuous Quarterly Returns\")\n",
    "plt.xlabel('Time')\n",
    "plt.ylabel('Continuous Quarterly Returns')\n",
    "plt.tight_layout(4)\n",
    "# Identify trends"
   ]
  },
  {
   "cell_type": "code",
   "execution_count": 54,
   "id": "80a3dec4",
   "metadata": {},
   "outputs": [
    {
     "data": {
      "text/html": [
       "<div>\n",
       "<style scoped>\n",
       "    .dataframe tbody tr th:only-of-type {\n",
       "        vertical-align: middle;\n",
       "    }\n",
       "\n",
       "    .dataframe tbody tr th {\n",
       "        vertical-align: top;\n",
       "    }\n",
       "\n",
       "    .dataframe thead th {\n",
       "        text-align: right;\n",
       "    }\n",
       "</style>\n",
       "<table border=\"1\" class=\"dataframe\">\n",
       "  <thead>\n",
       "    <tr style=\"text-align: right;\">\n",
       "      <th></th>\n",
       "      <th>Output</th>\n",
       "    </tr>\n",
       "  </thead>\n",
       "  <tbody>\n",
       "    <tr>\n",
       "      <th>Test Statistic Value</th>\n",
       "      <td>-16.321823</td>\n",
       "    </tr>\n",
       "    <tr>\n",
       "      <th>p-value</th>\n",
       "      <td>0.0</td>\n",
       "    </tr>\n",
       "    <tr>\n",
       "      <th>Lags Used</th>\n",
       "      <td>9</td>\n",
       "    </tr>\n",
       "    <tr>\n",
       "      <th>Number of Observations Used</th>\n",
       "      <td>3313</td>\n",
       "    </tr>\n",
       "    <tr>\n",
       "      <th>Critical Value(1%)</th>\n",
       "      <td>-3.432325</td>\n",
       "    </tr>\n",
       "    <tr>\n",
       "      <th>Critical Value(5%)</th>\n",
       "      <td>-2.862413</td>\n",
       "    </tr>\n",
       "    <tr>\n",
       "      <th>Critical Value(10%)</th>\n",
       "      <td>-2.567235</td>\n",
       "    </tr>\n",
       "  </tbody>\n",
       "</table>\n",
       "</div>"
      ],
      "text/plain": [
       "                                Output\n",
       "Test Statistic Value        -16.321823\n",
       "p-value                            0.0\n",
       "Lags Used                            9\n",
       "Number of Observations Used       3313\n",
       "Critical Value(1%)           -3.432325\n",
       "Critical Value(5%)           -2.862413\n",
       "Critical Value(10%)          -2.567235"
      ]
     },
     "execution_count": 54,
     "metadata": {},
     "output_type": "execute_result"
    }
   ],
   "source": [
    "########### Box-Jenkins Approach ###########\n",
    "# Identification: Check appropriate specification of the model\n",
    "# -> Use ACF/PACF and Information Criteria (BIC to forecast)\n",
    "\n",
    "\n",
    "# Review stationarity assumption: ADF test\n",
    "test = adfuller(df_EDF_ret)\n",
    "df_adf = pd.DataFrame(index=['Test Statistic Value', \"p-value\", \"Lags Used\", \"Number of Observations Used\",\"Critical Value(1%)\",\"Critical Value(5%)\",\"Critical Value(10%)\"],columns=['Output'])\n",
    "df_adf['Output']['Test Statistic Value'] = test[0]\n",
    "df_adf['Output']['p-value'] = test[1]\n",
    "df_adf['Output']['Lags Used'] = test[2]\n",
    "df_adf['Output']['Number of Observations Used'] = test[3]\n",
    "df_adf['Output']['Critical Value(1%)'] = test[4]['1%']\n",
    "df_adf['Output']['Critical Value(5%)'] = test[4]['5%']\n",
    "df_adf['Output']['Critical Value(10%)'] = test[4]['10%']\n",
    "df_adf\n",
    "# The null hypothesis is rejected: the process is stationary (pvalue below thresholds & t-stat < critical value)\n",
    "# No need to differentiate or detrend"
   ]
  },
  {
   "cell_type": "code",
   "execution_count": 55,
   "id": "d58978ec",
   "metadata": {},
   "outputs": [
    {
     "data": {
      "image/png": "[encoded data removed]",
      "text/plain": [
       "<Figure size 864x576 with 2 Axes>"
      ]
     },
     "metadata": {
      "needs_background": "light"
     },
     "output_type": "display_data"
    }
   ],
   "source": [
    "########### Analyze ACF/PACF to identify parameters ###########\n",
    "\n",
    "# ACF plot with 95% confidence interval\n",
    "fig = plt.figure(figsize=(12,8))\n",
    "ax1 = fig.add_subplot(121)\n",
    "fig = sm.graphics.tsa.plot_acf(df_EDF_ret, alpha=0.05,lags=30, ax=ax1)\n",
    "# PACF plot with 95% confidence interval\n",
    "ax2 = fig.add_subplot(122)\n",
    "fig = sm.graphics.tsa.plot_pacf(df_EDF_ret, alpha=0.05,lags=30, ax=ax2)"
   ]
  },
  {
   "cell_type": "code",
   "execution_count": null,
   "id": "9726c8f9",
   "metadata": {},
   "outputs": [],
   "source": []
  }
 ],
 "metadata": {
  "kernelspec": {
   "display_name": "Python 3 (ipykernel)",
   "language": "python",
   "name": "python3"
  },
  "language_info": {
   "codemirror_mode": {
    "name": "ipython",
    "version": 3
   },
   "file_extension": ".py",
   "mimetype": "text/x-python",
   "name": "python",
   "nbconvert_exporter": "python",
   "pygments_lexer": "ipython3",
   "version": "3.9.7"
  }
 },
 "nbformat": 4,
 "nbformat_minor": 5
}
