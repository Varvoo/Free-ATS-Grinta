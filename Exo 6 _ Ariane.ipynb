{
 "cells": [
  {
   "cell_type": "markdown",
   "id": "5c042654",
   "metadata": {},
   "source": [
    "# Exercise 6: AR-GARCH models\n",
    "\n",
    "**_Group: Ducray, Razanajatovo_**\n",
    "\n",
    "Please find below our code and empirical work regarding Apple's price returns. To fit the AR+GARCH model, we will fit first the AR(p) model and then applying the GARCH model to the residuals. The final prediction will be the sum of the ARIMA forecast + the GARCH forecasts."
   ]
  },
  {
   "cell_type": "code",
   "execution_count": 1,
   "id": "3321dd59",
   "metadata": {},
   "outputs": [
    {
     "name": "stdout",
     "output_type": "stream",
     "text": [
      "Requirement already satisfied: arch in c:\\users\\arian\\anaconda3\\lib\\site-packages (5.3.1)\n",
      "Requirement already satisfied: pandas>=1.0 in c:\\users\\arian\\anaconda3\\lib\\site-packages (from arch) (1.4.2)\n",
      "Requirement already satisfied: property-cached>=1.6.4 in c:\\users\\arian\\anaconda3\\lib\\site-packages (from arch) (1.6.4)\n",
      "Requirement already satisfied: scipy>=1.3 in c:\\users\\arian\\anaconda3\\lib\\site-packages (from arch) (1.7.3)\n",
      "Requirement already satisfied: statsmodels>=0.11 in c:\\users\\arian\\anaconda3\\lib\\site-packages (from arch) (0.13.2)\n",
      "Requirement already satisfied: numpy>=1.17 in c:\\users\\arian\\anaconda3\\lib\\site-packages (from arch) (1.21.5)\n",
      "Requirement already satisfied: python-dateutil>=2.8.1 in c:\\users\\arian\\anaconda3\\lib\\site-packages (from pandas>=1.0->arch) (2.8.2)\n",
      "Requirement already satisfied: pytz>=2020.1 in c:\\users\\arian\\anaconda3\\lib\\site-packages (from pandas>=1.0->arch) (2021.3)\n",
      "Requirement already satisfied: six>=1.5 in c:\\users\\arian\\anaconda3\\lib\\site-packages (from python-dateutil>=2.8.1->pandas>=1.0->arch) (1.16.0)\n",
      "Requirement already satisfied: patsy>=0.5.2 in c:\\users\\arian\\anaconda3\\lib\\site-packages (from statsmodels>=0.11->arch) (0.5.2)\n",
      "Requirement already satisfied: packaging>=21.3 in c:\\users\\arian\\anaconda3\\lib\\site-packages (from statsmodels>=0.11->arch) (21.3)\n",
      "Requirement already satisfied: pyparsing!=3.0.5,>=2.0.2 in c:\\users\\arian\\anaconda3\\lib\\site-packages (from packaging>=21.3->statsmodels>=0.11->arch) (3.0.4)\n"
     ]
    }
   ],
   "source": [
    "# Dataframe, maths and plotting libraries\n",
    "import pandas as pd\n",
    "import numpy as np\n",
    "from matplotlib import pyplot as plt\n",
    "from scipy.stats import norm\n",
    "\n",
    "\n",
    "from statsmodels.tsa.stattools import adfuller\n",
    "from statsmodels import tsa\n",
    "import statsmodels.api as sm\n",
    "from statsmodels.graphics.tsaplots import plot_acf,plot_pacf\n",
    "\n",
    "!pip install arch\n",
    "from arch import arch_model"
   ]
  },
  {
   "cell_type": "code",
   "execution_count": 3,
   "id": "c5cc5103",
   "metadata": {},
   "outputs": [
    {
     "data": {
      "text/plain": [
       "Date\n",
       "2018-01-04    0.463396\n",
       "2018-01-05    1.132147\n",
       "2018-01-08   -0.372139\n",
       "2018-01-09   -0.011468\n",
       "2018-01-10   -0.022940\n",
       "                ...   \n",
       "2022-08-24    0.179230\n",
       "2022-08-25    1.481248\n",
       "2022-08-26   -3.842832\n",
       "2022-08-29   -1.378469\n",
       "2022-08-30   -1.542384\n",
       "Name: Adj Close, Length: 1172, dtype: float64"
      ]
     },
     "execution_count": 3,
     "metadata": {},
     "output_type": "execute_result"
    }
   ],
   "source": [
    "#============== Load and prepare data ================\n",
    "\n",
    "    # Import data\n",
    "df = pd.read_excel('AAPL.xlsx',index_col=0)\n",
    "    # Sort data in chronological order\n",
    "df = df.sort_values(by='Date', ascending=True)\n",
    "    # Compute the daily log returns on Roche stock prices\n",
    "df_logret = np.log(df['Adj Close'].iloc[1:]).diff().dropna()*100\n",
    "df_logret"
   ]
  },
  {
   "cell_type": "code",
   "execution_count": 4,
   "id": "0c915593",
   "metadata": {},
   "outputs": [
    {
     "data": {
      "text/plain": [
       "Text(0, 0.5, 'Log-Return')"
      ]
     },
     "execution_count": 4,
     "metadata": {},
     "output_type": "execute_result"
    },
    {
     "data": {
      "image/png": "[encoded data removed]",
      "text/plain": [
       "<Figure size 432x288 with 2 Axes>"
      ]
     },
     "metadata": {
      "needs_background": "light"
     },
     "output_type": "display_data"
    }
   ],
   "source": [
    "#================== Visual representation ===================\n",
    "\n",
    "# Check the stock price's fluctuation\n",
    "plt.subplot(1, 2, 1)\n",
    "plt.plot(df['Adj Close'])\n",
    "plt.title(\"Apple Stock Prices\")\n",
    "plt.xlabel('Time')\n",
    "plt.ylabel('Price')\n",
    "# Check the evolution of log-returns\n",
    "plt.subplot(1, 2, 2)\n",
    "plt.plot(df_logret)\n",
    "plt.title(\"Apple Stock Log-returns\")\n",
    "plt.xlabel('Time')\n",
    "plt.ylabel('Log-Return')"
   ]
  },
  {
   "cell_type": "markdown",
   "id": "45c46c1a",
   "metadata": {},
   "source": [
    "1. Checking the stationarity with the Augmented Dickey Fuller test which test for the presence of a unit root:"
   ]
  },
  {
   "cell_type": "code",
   "execution_count": 5,
   "id": "7636f79a",
   "metadata": {},
   "outputs": [
    {
     "data": {
      "text/html": [
       "<div>\n",
       "<style scoped>\n",
       "    .dataframe tbody tr th:only-of-type {\n",
       "        vertical-align: middle;\n",
       "    }\n",
       "\n",
       "    .dataframe tbody tr th {\n",
       "        vertical-align: top;\n",
       "    }\n",
       "\n",
       "    .dataframe thead th {\n",
       "        text-align: right;\n",
       "    }\n",
       "</style>\n",
       "<table border=\"1\" class=\"dataframe\">\n",
       "  <thead>\n",
       "    <tr style=\"text-align: right;\">\n",
       "      <th></th>\n",
       "      <th>Output</th>\n",
       "    </tr>\n",
       "  </thead>\n",
       "  <tbody>\n",
       "    <tr>\n",
       "      <th>Test Statistic Value</th>\n",
       "      <td>-10.679321</td>\n",
       "    </tr>\n",
       "    <tr>\n",
       "      <th>p-value</th>\n",
       "      <td>0.0</td>\n",
       "    </tr>\n",
       "    <tr>\n",
       "      <th>Lags Used</th>\n",
       "      <td>8</td>\n",
       "    </tr>\n",
       "    <tr>\n",
       "      <th>Number of Observations Used</th>\n",
       "      <td>1163</td>\n",
       "    </tr>\n",
       "    <tr>\n",
       "      <th>Critical Value(1%)</th>\n",
       "      <td>-3.435985</td>\n",
       "    </tr>\n",
       "    <tr>\n",
       "      <th>Critical Value(5%)</th>\n",
       "      <td>-2.864028</td>\n",
       "    </tr>\n",
       "    <tr>\n",
       "      <th>Critical Value(10%)</th>\n",
       "      <td>-2.568095</td>\n",
       "    </tr>\n",
       "  </tbody>\n",
       "</table>\n",
       "</div>"
      ],
      "text/plain": [
       "                                Output\n",
       "Test Statistic Value        -10.679321\n",
       "p-value                            0.0\n",
       "Lags Used                            8\n",
       "Number of Observations Used       1163\n",
       "Critical Value(1%)           -3.435985\n",
       "Critical Value(5%)           -2.864028\n",
       "Critical Value(10%)          -2.568095"
      ]
     },
     "execution_count": 5,
     "metadata": {},
     "output_type": "execute_result"
    }
   ],
   "source": [
    "test = adfuller(df_logret)\n",
    "df_adf = pd.DataFrame(index=['Test Statistic Value', \"p-value\", \"Lags Used\", \"Number of Observations Used\",\"Critical Value(1%)\",\"Critical Value(5%)\",\"Critical Value(10%)\"],columns=['Output'])\n",
    "df_adf['Output']['Test Statistic Value'] = test[0]\n",
    "df_adf['Output']['p-value'] = test[1]\n",
    "df_adf['Output']['Lags Used'] = test[2]\n",
    "df_adf['Output']['Number of Observations Used'] = test[3]\n",
    "df_adf['Output']['Critical Value(1%)'] = test[4]['1%']\n",
    "df_adf['Output']['Critical Value(5%)'] = test[4]['5%']\n",
    "df_adf['Output']['Critical Value(10%)'] = test[4]['10%']\n",
    "df_adf"
   ]
  },
  {
   "cell_type": "markdown",
   "id": "f3e108b2",
   "metadata": {},
   "source": [
    "The null hypothesis is rejected: the process is **stationary** (pvalue below thresholds & t-stat < critical value)\n",
    "No need to differentiate or detrend"
   ]
  },
  {
   "cell_type": "markdown",
   "id": "022f95f6",
   "metadata": {},
   "source": [
    "2. Fitting AR and GARCH models:"
   ]
  },
  {
   "cell_type": "markdown",
   "id": "11e2f338",
   "metadata": {},
   "source": [
    "Splitting dataset in train and test sets with a ratio of 70:30"
   ]
  },
  {
   "cell_type": "code",
   "execution_count": 6,
   "id": "8ae83100",
   "metadata": {},
   "outputs": [],
   "source": [
    "df_train = df_logret.iloc[:round(len(df_logret)*0.7)]\n",
    "df_test = df_logret.iloc[round(len(df_logret)*0.7):]"
   ]
  },
  {
   "cell_type": "code",
   "execution_count": 7,
   "id": "e0fd7700",
   "metadata": {},
   "outputs": [
    {
     "name": "stderr",
     "output_type": "stream",
     "text": [
      "C:\\Users\\arian\\anaconda3\\lib\\site-packages\\statsmodels\\graphics\\tsaplots.py:348: FutureWarning: The default method 'yw' can produce PACF values outside of the [-1,1] interval. After 0.13, the default will change tounadjusted Yule-Walker ('ywm'). You can use this method now by setting method='ywm'.\n",
      "  warnings.warn(\n"
     ]
    },
    {
     "data": {
      "image/png": "[encoded data removed]",
      "text/plain": [
       "<Figure size 864x576 with 2 Axes>"
      ]
     },
     "metadata": {
      "needs_background": "light"
     },
     "output_type": "display_data"
    }
   ],
   "source": [
    "fig = plt.figure(figsize=(12,8))\n",
    "ax1 = fig.add_subplot(211)\n",
    "fig = sm.graphics.tsa.plot_acf(df_train, lags=30, ax=ax1)\n",
    "ax2 = fig.add_subplot(212)\n",
    "fig = sm.graphics.tsa.plot_pacf(df_train, lags=30, ax=ax2)"
   ]
  },
  {
   "cell_type": "markdown",
   "id": "147df405",
   "metadata": {},
   "source": [
    "Graphically, we can't conclude about the exponential decay of the ACF but we can see a spike at order 1 on the PACF. We will use AIC and BIC criterion to confirm the optimal parameters:"
   ]
  },
  {
   "cell_type": "code",
   "execution_count": 10,
   "id": "92cc61a5",
   "metadata": {},
   "outputs": [
    {
     "name": "stdout",
     "output_type": "stream",
     "text": [
      "fitting: ar:0 - ma:0\n",
      "fitting: ar:1 - ma:0\n",
      "fitting: ar:2 - ma:0\n"
     ]
    },
    {
     "name": "stderr",
     "output_type": "stream",
     "text": [
      "C:\\Users\\arian\\anaconda3\\lib\\site-packages\\statsmodels\\tsa\\base\\tsa_model.py:471: ValueWarning: A date index has been provided, but it has no associated frequency information and so will be ignored when e.g. forecasting.\n",
      "  self._init_dates(dates, freq)\n",
      "C:\\Users\\arian\\anaconda3\\lib\\site-packages\\statsmodels\\tsa\\base\\tsa_model.py:471: ValueWarning: A date index has been provided, but it has no associated frequency information and so will be ignored when e.g. forecasting.\n",
      "  self._init_dates(dates, freq)\n",
      "C:\\Users\\arian\\anaconda3\\lib\\site-packages\\statsmodels\\tsa\\base\\tsa_model.py:471: ValueWarning: A date index has been provided, but it has no associated frequency information and so will be ignored when e.g. forecasting.\n",
      "  self._init_dates(dates, freq)\n",
      "C:\\Users\\arian\\anaconda3\\lib\\site-packages\\statsmodels\\tsa\\base\\tsa_model.py:471: ValueWarning: A date index has been provided, but it has no associated frequency information and so will be ignored when e.g. forecasting.\n",
      "  self._init_dates(dates, freq)\n",
      "C:\\Users\\arian\\anaconda3\\lib\\site-packages\\statsmodels\\tsa\\base\\tsa_model.py:471: ValueWarning: A date index has been provided, but it has no associated frequency information and so will be ignored when e.g. forecasting.\n",
      "  self._init_dates(dates, freq)\n",
      "C:\\Users\\arian\\anaconda3\\lib\\site-packages\\statsmodels\\tsa\\base\\tsa_model.py:471: ValueWarning: A date index has been provided, but it has no associated frequency information and so will be ignored when e.g. forecasting.\n",
      "  self._init_dates(dates, freq)\n",
      "C:\\Users\\arian\\anaconda3\\lib\\site-packages\\statsmodels\\tsa\\base\\tsa_model.py:471: ValueWarning: A date index has been provided, but it has no associated frequency information and so will be ignored when e.g. forecasting.\n",
      "  self._init_dates(dates, freq)\n",
      "C:\\Users\\arian\\anaconda3\\lib\\site-packages\\statsmodels\\tsa\\base\\tsa_model.py:471: ValueWarning: A date index has been provided, but it has no associated frequency information and so will be ignored when e.g. forecasting.\n",
      "  self._init_dates(dates, freq)\n",
      "C:\\Users\\arian\\anaconda3\\lib\\site-packages\\statsmodels\\tsa\\base\\tsa_model.py:471: ValueWarning: A date index has been provided, but it has no associated frequency information and so will be ignored when e.g. forecasting.\n",
      "  self._init_dates(dates, freq)\n"
     ]
    },
    {
     "name": "stdout",
     "output_type": "stream",
     "text": [
      "fitting: ar:3 - ma:0\n",
      "fitting: ar:4 - ma:0\n"
     ]
    },
    {
     "name": "stderr",
     "output_type": "stream",
     "text": [
      "C:\\Users\\arian\\anaconda3\\lib\\site-packages\\statsmodels\\tsa\\base\\tsa_model.py:471: ValueWarning: A date index has been provided, but it has no associated frequency information and so will be ignored when e.g. forecasting.\n",
      "  self._init_dates(dates, freq)\n",
      "C:\\Users\\arian\\anaconda3\\lib\\site-packages\\statsmodels\\tsa\\base\\tsa_model.py:471: ValueWarning: A date index has been provided, but it has no associated frequency information and so will be ignored when e.g. forecasting.\n",
      "  self._init_dates(dates, freq)\n",
      "C:\\Users\\arian\\anaconda3\\lib\\site-packages\\statsmodels\\tsa\\base\\tsa_model.py:471: ValueWarning: A date index has been provided, but it has no associated frequency information and so will be ignored when e.g. forecasting.\n",
      "  self._init_dates(dates, freq)\n",
      "C:\\Users\\arian\\anaconda3\\lib\\site-packages\\statsmodels\\tsa\\base\\tsa_model.py:471: ValueWarning: A date index has been provided, but it has no associated frequency information and so will be ignored when e.g. forecasting.\n",
      "  self._init_dates(dates, freq)\n",
      "C:\\Users\\arian\\anaconda3\\lib\\site-packages\\statsmodels\\tsa\\base\\tsa_model.py:471: ValueWarning: A date index has been provided, but it has no associated frequency information and so will be ignored when e.g. forecasting.\n",
      "  self._init_dates(dates, freq)\n",
      "C:\\Users\\arian\\anaconda3\\lib\\site-packages\\statsmodels\\tsa\\base\\tsa_model.py:471: ValueWarning: A date index has been provided, but it has no associated frequency information and so will be ignored when e.g. forecasting.\n",
      "  self._init_dates(dates, freq)\n"
     ]
    },
    {
     "name": "stdout",
     "output_type": "stream",
     "text": [
      "fitting: ar:5 - ma:0\n",
      "fitting: ar:6 - ma:0\n"
     ]
    },
    {
     "name": "stderr",
     "output_type": "stream",
     "text": [
      "C:\\Users\\arian\\anaconda3\\lib\\site-packages\\statsmodels\\tsa\\base\\tsa_model.py:471: ValueWarning: A date index has been provided, but it has no associated frequency information and so will be ignored when e.g. forecasting.\n",
      "  self._init_dates(dates, freq)\n",
      "C:\\Users\\arian\\anaconda3\\lib\\site-packages\\statsmodels\\tsa\\base\\tsa_model.py:471: ValueWarning: A date index has been provided, but it has no associated frequency information and so will be ignored when e.g. forecasting.\n",
      "  self._init_dates(dates, freq)\n",
      "C:\\Users\\arian\\anaconda3\\lib\\site-packages\\statsmodels\\tsa\\base\\tsa_model.py:471: ValueWarning: A date index has been provided, but it has no associated frequency information and so will be ignored when e.g. forecasting.\n",
      "  self._init_dates(dates, freq)\n",
      "C:\\Users\\arian\\anaconda3\\lib\\site-packages\\statsmodels\\tsa\\base\\tsa_model.py:471: ValueWarning: A date index has been provided, but it has no associated frequency information and so will be ignored when e.g. forecasting.\n",
      "  self._init_dates(dates, freq)\n",
      "C:\\Users\\arian\\anaconda3\\lib\\site-packages\\statsmodels\\tsa\\base\\tsa_model.py:471: ValueWarning: A date index has been provided, but it has no associated frequency information and so will be ignored when e.g. forecasting.\n",
      "  self._init_dates(dates, freq)\n",
      "C:\\Users\\arian\\anaconda3\\lib\\site-packages\\statsmodels\\tsa\\base\\tsa_model.py:471: ValueWarning: A date index has been provided, but it has no associated frequency information and so will be ignored when e.g. forecasting.\n",
      "  self._init_dates(dates, freq)\n"
     ]
    },
    {
     "name": "stdout",
     "output_type": "stream",
     "text": [
      "fitting: ar:7 - ma:0\n"
     ]
    },
    {
     "name": "stderr",
     "output_type": "stream",
     "text": [
      "C:\\Users\\arian\\anaconda3\\lib\\site-packages\\statsmodels\\tsa\\base\\tsa_model.py:471: ValueWarning: A date index has been provided, but it has no associated frequency information and so will be ignored when e.g. forecasting.\n",
      "  self._init_dates(dates, freq)\n",
      "C:\\Users\\arian\\anaconda3\\lib\\site-packages\\statsmodels\\tsa\\base\\tsa_model.py:471: ValueWarning: A date index has been provided, but it has no associated frequency information and so will be ignored when e.g. forecasting.\n",
      "  self._init_dates(dates, freq)\n",
      "C:\\Users\\arian\\anaconda3\\lib\\site-packages\\statsmodels\\tsa\\base\\tsa_model.py:471: ValueWarning: A date index has been provided, but it has no associated frequency information and so will be ignored when e.g. forecasting.\n",
      "  self._init_dates(dates, freq)\n"
     ]
    },
    {
     "name": "stdout",
     "output_type": "stream",
     "text": [
      "fitting: ar:8 - ma:0\n"
     ]
    },
    {
     "name": "stderr",
     "output_type": "stream",
     "text": [
      "C:\\Users\\arian\\anaconda3\\lib\\site-packages\\statsmodels\\tsa\\base\\tsa_model.py:471: ValueWarning: A date index has been provided, but it has no associated frequency information and so will be ignored when e.g. forecasting.\n",
      "  self._init_dates(dates, freq)\n",
      "C:\\Users\\arian\\anaconda3\\lib\\site-packages\\statsmodels\\tsa\\base\\tsa_model.py:471: ValueWarning: A date index has been provided, but it has no associated frequency information and so will be ignored when e.g. forecasting.\n",
      "  self._init_dates(dates, freq)\n",
      "C:\\Users\\arian\\anaconda3\\lib\\site-packages\\statsmodels\\tsa\\base\\tsa_model.py:471: ValueWarning: A date index has been provided, but it has no associated frequency information and so will be ignored when e.g. forecasting.\n",
      "  self._init_dates(dates, freq)\n"
     ]
    },
    {
     "name": "stdout",
     "output_type": "stream",
     "text": [
      "fitting: ar:9 - ma:0\n"
     ]
    },
    {
     "name": "stderr",
     "output_type": "stream",
     "text": [
      "C:\\Users\\arian\\anaconda3\\lib\\site-packages\\statsmodels\\tsa\\base\\tsa_model.py:471: ValueWarning: A date index has been provided, but it has no associated frequency information and so will be ignored when e.g. forecasting.\n",
      "  self._init_dates(dates, freq)\n",
      "C:\\Users\\arian\\anaconda3\\lib\\site-packages\\statsmodels\\tsa\\base\\tsa_model.py:471: ValueWarning: A date index has been provided, but it has no associated frequency information and so will be ignored when e.g. forecasting.\n",
      "  self._init_dates(dates, freq)\n",
      "C:\\Users\\arian\\anaconda3\\lib\\site-packages\\statsmodels\\tsa\\base\\tsa_model.py:471: ValueWarning: A date index has been provided, but it has no associated frequency information and so will be ignored when e.g. forecasting.\n",
      "  self._init_dates(dates, freq)\n"
     ]
    },
    {
     "name": "stdout",
     "output_type": "stream",
     "text": [
      "fitting: ar:10 - ma:0\n"
     ]
    },
    {
     "name": "stderr",
     "output_type": "stream",
     "text": [
      "C:\\Users\\arian\\anaconda3\\lib\\site-packages\\statsmodels\\tsa\\base\\tsa_model.py:471: ValueWarning: A date index has been provided, but it has no associated frequency information and so will be ignored when e.g. forecasting.\n",
      "  self._init_dates(dates, freq)\n",
      "C:\\Users\\arian\\anaconda3\\lib\\site-packages\\statsmodels\\tsa\\base\\tsa_model.py:471: ValueWarning: A date index has been provided, but it has no associated frequency information and so will be ignored when e.g. forecasting.\n",
      "  self._init_dates(dates, freq)\n",
      "C:\\Users\\arian\\anaconda3\\lib\\site-packages\\statsmodels\\tsa\\base\\tsa_model.py:471: ValueWarning: A date index has been provided, but it has no associated frequency information and so will be ignored when e.g. forecasting.\n",
      "  self._init_dates(dates, freq)\n"
     ]
    },
    {
     "name": "stdout",
     "output_type": "stream",
     "text": [
      "criterion\n",
      "     ar_order  ma_order       aic       bic\n",
      "0          0         0  3.625207  3.634626\n",
      "1          1         0  3.609156  3.623284\n",
      "2          2         0  3.610959  3.629796\n",
      "3          3         0  3.612959  3.636506\n",
      "4          4         0  3.614926  3.643181\n",
      "5          5         0  3.616023  3.648988\n",
      "6          6         0  3.614119  3.651794\n",
      "7          7         0  3.602049  3.644433\n",
      "8          8         0  3.595866  3.642959\n",
      "9          9         0  3.589276  3.641078\n",
      "10        10         0  3.591251  3.647763\n"
     ]
    }
   ],
   "source": [
    "from itertools import product\n",
    "ar_order = [0, 1, 2, 3, 4, 5, 6, 7, 8, 9, 10]\n",
    "ma_order = [0]\n",
    "arma_res = [list(orders) for orders in product(ar_order, ma_order)]\n",
    "#     pprint.pprint(arma_res)\n",
    "\n",
    "for n in arma_res:\n",
    "    print('fitting: ar:{} - ma:{}'.format(*n)) \n",
    "    try:\n",
    "        arma_model  = tsa.arima.model.ARIMA(df_train, order= (n[0], 0, 0)).fit()\n",
    "        n.extend([arma_model.aic / 1e3, arma_model.bic / 1e3])\n",
    "    except Exception as exception:\n",
    "        print(exception.__str__())\n",
    "        n.extend([np.NaN, np.NaN])\n",
    "    \n",
    "res = pd.DataFrame(arma_res, columns = ['ar_order', 'ma_order', 'aic', 'bic'])\n",
    "print('criterion\\n', res)"
   ]
  },
  {
   "cell_type": "code",
   "execution_count": 11,
   "id": "9e36a4e6",
   "metadata": {},
   "outputs": [
    {
     "data": {
      "text/plain": [
       "(1, 0)"
      ]
     },
     "execution_count": 11,
     "metadata": {},
     "output_type": "execute_result"
    }
   ],
   "source": [
    "#========= confirming order chosen ============\n",
    "sm.tsa.arma_order_select_ic(df_train,max_ar=10,max_ma=0,ic='bic')['bic_min_order']"
   ]
  },
  {
   "cell_type": "markdown",
   "id": "28d3396d",
   "metadata": {},
   "source": [
    "**The order chosen is thus an AR(1) to fit the data**"
   ]
  },
  {
   "cell_type": "markdown",
   "id": "91233188",
   "metadata": {},
   "source": [
    "Now to detect the GARCH effect:\n",
    "    a. First we construct the standardized residuals and run a normality test on them (Jarque-Bera test):"
   ]
  },
  {
   "cell_type": "code",
   "execution_count": 29,
   "id": "af1610e6",
   "metadata": {},
   "outputs": [
    {
     "name": "stdout",
     "output_type": "stream",
     "text": [
      "(1058.677717123933, 1.2913818242588948e-230, -0.35332055700700343, 8.521444341624855)\n"
     ]
    },
    {
     "data": {
      "text/plain": [
       "1.0"
      ]
     },
     "execution_count": 29,
     "metadata": {},
     "output_type": "execute_result"
    }
   ],
   "source": [
    "df_train_std = (df_train - np.mean(df_train))/ np.std(df_train)\n",
    "nb_obs = len(df_train)\n",
    "\n",
    "jb = sm.stats.stattools.jarque_bera(df_train_std, axis=0)\n",
    "print(jb)\n",
    "\n",
    "mw_size = 250\n",
    "jb_mw = np.zeros(nb_obs-mw_size)\n",
    "for x in range(0, nb_obs-mw_size):\n",
    "    jb =  sm.stats.stattools.jarque_bera(df_train_std[x:mw_size+x], axis=0)  \n",
    "    jb_mw [x] = jb[1]\n",
    "    \n",
    "np.mean(jb_mw < 0.05)"
   ]
  },
  {
   "cell_type": "markdown",
   "id": "9d1dfdd7",
   "metadata": {},
   "source": [
    "This Jarque-Bera test is a goodness-of-fit test that returns the JB t-stat, p-value, skewness and the kurtosis. Clearly **we can reject the null hypothesis of a normal distribution** (p-value being above any threshold) and confirm a GARCH effect. One could use a different distribution for GARCH, one with fatter tails and that takes into account the skewness."
   ]
  },
  {
   "cell_type": "code",
   "execution_count": 30,
   "id": "0c11c97b",
   "metadata": {},
   "outputs": [
    {
     "name": "stdout",
     "output_type": "stream",
     "text": [
      "Iteration:      1,   Func. Count:      7,   Neg. LLF: 47335.403056261755\n",
      "Iteration:      2,   Func. Count:     16,   Neg. LLF: 22307.180233455823\n",
      "Iteration:      3,   Func. Count:     24,   Neg. LLF: 1862.0838048745675\n",
      "Iteration:      4,   Func. Count:     32,   Neg. LLF: 2050.791818043996\n",
      "Iteration:      5,   Func. Count:     39,   Neg. LLF: 1696.4156058140297\n",
      "Iteration:      6,   Func. Count:     46,   Neg. LLF: 1037.232837274403\n",
      "Iteration:      7,   Func. Count:     53,   Neg. LLF: 1017.3951000105619\n",
      "Iteration:      8,   Func. Count:     59,   Neg. LLF: 1017.291737149986\n",
      "Iteration:      9,   Func. Count:     65,   Neg. LLF: 1017.2711685096358\n",
      "Iteration:     10,   Func. Count:     71,   Neg. LLF: 1017.256160103186\n",
      "Iteration:     11,   Func. Count:     77,   Neg. LLF: 1017.2528081842195\n",
      "Iteration:     12,   Func. Count:     83,   Neg. LLF: 1017.2521549570648\n",
      "Iteration:     13,   Func. Count:     89,   Neg. LLF: 1017.2520604307496\n",
      "Iteration:     14,   Func. Count:     95,   Neg. LLF: 1017.2520567143791\n",
      "Iteration:     15,   Func. Count:    100,   Neg. LLF: 1017.2520567143786\n",
      "Optimization terminated successfully    (Exit mode 0)\n",
      "            Current function value: 1017.2520567143791\n",
      "            Iterations: 15\n",
      "            Function evaluations: 100\n",
      "            Gradient evaluations: 15\n",
      "                              AR - GARCH Model Results                              \n",
      "====================================================================================\n",
      "Dep. Variable:                    Adj Close   R-squared:                       0.000\n",
      "Mean Model:                              AR   Adj. R-squared:                  0.000\n",
      "Vol Model:                            GARCH   Log-Likelihood:               -1017.25\n",
      "Distribution:      Standardized Student's t   AIC:                           2044.50\n",
      "Method:                  Maximum Likelihood   BIC:                           2068.05\n",
      "                                              No. Observations:                  820\n",
      "Date:                      Thu, Dec 22 2022   Df Residuals:                      819\n",
      "Time:                              18:27:23   Df Model:                            1\n",
      "                                  Mean Model                                 \n",
      "=============================================================================\n",
      "                 coef    std err          t      P>|t|       95.0% Conf. Int.\n",
      "-----------------------------------------------------------------------------\n",
      "Const          0.0445  2.381e-02      1.868  6.174e-02 [-2.186e-03,9.116e-02]\n",
      "                              Volatility Model                              \n",
      "============================================================================\n",
      "                 coef    std err          t      P>|t|      95.0% Conf. Int.\n",
      "----------------------------------------------------------------------------\n",
      "omega          0.0423  1.411e-02      2.998  2.714e-03 [1.466e-02,6.998e-02]\n",
      "alpha[1]       0.1724  4.142e-02      4.162  3.158e-05   [9.120e-02,  0.254]\n",
      "beta[1]        0.8009  3.816e-02     20.986  8.883e-98     [  0.726,  0.876]\n",
      "                              Distribution                              \n",
      "========================================================================\n",
      "                 coef    std err          t      P>|t|  95.0% Conf. Int.\n",
      "------------------------------------------------------------------------\n",
      "nu             4.7020      0.751      6.265  3.735e-10 [  3.231,  6.173]\n",
      "========================================================================\n",
      "\n",
      "Covariance estimator: robust\n"
     ]
    },
    {
     "data": {
      "image/png": "[encoded data removed]",
      "text/plain": [
       "<Figure size 432x288 with 2 Axes>"
      ]
     },
     "metadata": {
      "needs_background": "light"
     },
     "output_type": "display_data"
    }
   ],
   "source": [
    "#======= GARCH(1,1) estimates =====================================\n",
    "\n",
    "am = arch_model(df_train_std,p=1, o=0, q=1, mean='AR', lags=0, dist='t') \n",
    "# by putting o=1 you can model leverage effects => GJR-GARCH(1,1) model\n",
    "res = am.fit()\n",
    "print(res.summary())\n",
    "fig = res.plot(annualize='D')"
   ]
  },
  {
   "cell_type": "code",
   "execution_count": 34,
   "id": "ef9b6758",
   "metadata": {},
   "outputs": [
    {
     "name": "stdout",
     "output_type": "stream",
     "text": [
      "-1.8231245366836821\n",
      "-1.6448536269514729\n"
     ]
    }
   ],
   "source": [
    "from scipy.stats import t\n",
    "print(t.ppf(0.05,9.4548))\n",
    "print(norm.ppf(0.05))"
   ]
  },
  {
   "cell_type": "code",
   "execution_count": 35,
   "id": "c22721f6",
   "metadata": {},
   "outputs": [
    {
     "name": "stdout",
     "output_type": "stream",
     "text": [
      "0.49146341463414633\n",
      "0.4878048780487805\n",
      "0.4841463414634146\n"
     ]
    },
    {
     "data": {
      "image/png": "[encoded data removed]",
      "text/plain": [
       "<Figure size 864x576 with 1 Axes>"
      ]
     },
     "metadata": {
      "needs_background": "light"
     },
     "output_type": "display_data"
    }
   ],
   "source": [
    "#================== Value-at-Risk estimates=================\n",
    "\n",
    "temp = res.conditional_volatility\n",
    "var90 = (0.0656 + res.conditional_volatility * t.ppf(0.10,9.2571)) /100\n",
    "var95 = (0.0656 + res.conditional_volatility * t.ppf(0.05,9.2571)) /100\n",
    "var99 = (0.0656 + res.conditional_volatility * t.ppf(0.01,9.2571)) /100\n",
    "    \n",
    "fig = plt.figure(figsize=(12,8))\n",
    "plt.plot(df_train_std, 'b.', var90, 'r-', var95, 'g-', var99, 'c-')\n",
    " \n",
    "print(np.mean(df_train_std < var90))  \n",
    "print(np.mean(df_train_std < var95)) \n",
    "print(np.mean(df_train_std < var99))"
   ]
  }
 ],
 "metadata": {
  "kernelspec": {
   "display_name": "Python 3 (ipykernel)",
   "language": "python",
   "name": "python3"
  },
  "language_info": {
   "codemirror_mode": {
    "name": "ipython",
    "version": 3
   },
   "file_extension": ".py",
   "mimetype": "text/x-python",
   "name": "python",
   "nbconvert_exporter": "python",
   "pygments_lexer": "ipython3",
   "version": "3.9.12"
  }
 },
 "nbformat": 4,
 "nbformat_minor": 5
}
